{
 "cells": [
  {
   "cell_type": "markdown",
   "id": "d9409ac2-a03e-4f1b-bf13-b4f9b743f14b",
   "metadata": {},
   "source": [
    "# Nivell 1"
   ]
  },
  {
   "cell_type": "markdown",
   "id": "609ca539-a174-4a0f-be33-24070963768b",
   "metadata": {},
   "source": [
    "## Exercici 1"
   ]
  },
  {
   "cell_type": "markdown",
   "id": "53d6ee41-5ba9-4ac6-a4ff-4c044befc748",
   "metadata": {},
   "source": [
    "### Codi font: Característiques\n",
    "Indica **quines** de les següents característiques es poden relacionar amb el codi font:\n",
    "\n",
    "    a) Un programador el pot editar i modificar-ne el comportament de forma senzilla.\n",
    "    b) L'ordinador pot llegir el codi i executar-lo directament.\n",
    "    c) Els programes com processadors de textos o entorns de desenvolupament els poden interpretar i mostrar per pantalla de forma correcta.\n",
    "    d) El codi es troba sempre optimitzat per estalviar memòria i temps d'execució.\n",
    "    e) Existeixen diferents llenguatges de programació per escriure'ls.\n",
    "    f) El codi és sempre el mateix sigui quina sigui la plataforma sobre la qual s'ha d'executar.\n"
   ]
  },
  {
   "cell_type": "markdown",
   "id": "2ddd1c47-2e84-4ab8-a634-337b77954e28",
   "metadata": {},
   "source": [
    "//La teva resposta aquí. **Justifica la resposta**.\n",
    "\n",
    "a) Sí, una persona entrenada que llegeixi el codi font serà capaç d'entendre (depenent de la complexitat) quin és el comportament esperat del programa (o d'una part del mateix)\n",
    "\n",
    "b) No, un ordinador, per si mateix, no és capaç d'entendre el codi font, s'ha de traduir a codi màquina del codi font original juntament amb totes les llibreries necessàries per funcionar.\n",
    "\n",
    "c) No, només ho interpreta si està en codi byte.\n",
    "\n",
    "d) Sí, perquè el programa sigui el més ràpid i eficient possible.\n",
    "\n",
    "e) Sí, hi ha diferents llenguatges de programació per escriure codi font (PHP, Java, JavaScript o Ruby) però n'hi ha molts més.\n",
    "\n",
    "f) Sí, si amb plataforma ens referim a sistema operatiu, la compatibilitat de codi binari és una propietat dels sistemes informàtics, que significa que poden executar el mateix codi executable, en general codi de màquina.\n",
    "\n",
    "\n",
    "\n",
    "\n"
   ]
  },
  {
   "cell_type": "markdown",
   "id": "ed1b2f74-f516-4935-bc2d-a74d3d7c050a",
   "metadata": {},
   "source": [
    "### Codi font: Representació\n",
    "Indica quina de les figures representa millor el codi font:\n",
    "\n",
    "![codi font, codi binari](images/codes_src_bin.png)"
   ]
  },
  {
   "cell_type": "markdown",
   "id": "f1cf5c3c-cd47-4063-b493-a4532f332cd9",
   "metadata": {},
   "source": [
    "//La teva resposta aquí. **Justifica la resposta**.\n",
    "\n",
    "La figura a, ja que el codi font fa referència a una sèrie d'instruccions escrites en algun llenguatge de programació llegible per una persona."
   ]
  },
  {
   "cell_type": "markdown",
   "id": "d2156734-41e9-46dd-9174-ab041b411d9d",
   "metadata": {},
   "source": [
    "### Codi objecte: Característiques\n",
    "\n",
    "Indica **quines** de les següents característiques es poden relacionar amb el codi objecte:\n",
    "\n",
    "    a) Un programador el pot editar i modificar-ne el comportament de forma senzilla.\n",
    "    b) L'ordinador pot llegir el codi i executar-lo directament.\n",
    "    c) Els programes com processadors de textos o entorns de desenvolupament els poden interpretar i mostrar per pantalla de forma correcta.\n",
    "    d) El codi es troba sempre optimitzat per estalviar memòria i temps d'execució.\n",
    "    e) Existeixen diferents llenguatges de programació per escriure'ls.\n",
    "    f) El codi és sempre el mateix sigui quina sigui la plataforma sobre la qual s'ha d'executar."
   ]
  },
  {
   "cell_type": "markdown",
   "id": "157617b7-c8e4-494d-b943-fc11504b48c1",
   "metadata": {},
   "source": [
    "//La teva resposta aquí. **Justifica la resposta**.\n",
    "\n",
    "a) No, ja que el codi objecte està en llenguatge màquina o bytecode.\n",
    "\n",
    "b) No, en estar escrit en binari és interpretable pel processador, però està incomplet i l'ordinador encara no el pot executar.\n",
    "\n",
    "c) Sí, podem llegir el codi byte. Per exemple, un editor de text pot interpretar els bytes en caràcters.\n",
    "\n",
    "d) Sí, hi ha compiladors optimitzadors que tracten de minimitzar certs atributs d'un programa informàtic per augmentar l'eficència i el rendiment. Principalment tracten de reduir el temps dexecució del programa i reduir la quantitat despai en memòria.\n",
    "\n",
    "e) No, és a dir, hi ha diversos compiladors de codi font i d'aquesta manera es crea el codi objecte.\n",
    "\n",
    "f) Sí, si amb plataforma ens referim a sistema operatiu, la compatibilitat de codi binari és una propietat dels sistemes informàtics, que significa que poden executar el mateix codi executable, en general codi de màquina."
   ]
  },
  {
   "cell_type": "markdown",
   "id": "b5363056-c144-4c61-aa52-741faa23847b",
   "metadata": {},
   "source": [
    "### Codi objecte: Representació\n",
    "Indica quina de les figures representa millor el codi objecte:\n",
    "\n",
    "![codi font, codi binari](images/codes_src_bin.png)"
   ]
  },
  {
   "cell_type": "markdown",
   "id": "fd89e185-6855-4501-85e9-66c06b548ffa",
   "metadata": {},
   "source": [
    "//La teva resposta aquí. **Justifica la resposta**.\n",
    "\n",
    "La figura b, ja que el codi objecte està escrit en binari (codi màquina o assemblador)."
   ]
  },
  {
   "cell_type": "markdown",
   "id": "1472c712-d46c-4d55-87cc-95a5f66eb316",
   "metadata": {},
   "source": [
    "### Codi executable: Característiques\n",
    "\n",
    "Indica quines de les següents característiques es poden relacionar amb el codi executable:\n",
    "\n",
    "    a) Un programador el pot editar i modificar-ne el comportament de forma senzilla.\n",
    "    b) L'ordinador pot llegir el codi i executar-lo directament.\n",
    "    c) Els programes com processadors de textos o entorns de desenvolupament els poden interpretar i mostrar per pantalla de forma correcta.\n",
    "    d) El codi es troba sempre optimitzat per estalviar memòria i temps d'execució.\n",
    "    e) Existeixen diferents llenguatges de programació per escriure'ls.\n",
    "    f) El codi és sempre el mateix sigui quina sigui la plataforma sobre la qual s'ha d'executar."
   ]
  },
  {
   "cell_type": "markdown",
   "id": "c5393a3c-08e6-41d4-aa15-72b4036f7b53",
   "metadata": {},
   "source": [
    "//La teva resposta aquí. **Justifica la resposta**.\n",
    "\n",
    "a) No, ja que el codi executable està en codi màquina.\n",
    "\n",
    "b) Sí, ja que ha passat per tota la cadena de procesos des de el codí font.\n",
    "\n",
    "c) Sí, poden llegir el codi byte.\n",
    "\n",
    "d) Sí, ja està optimitzat pel compilador i amb l'enllaçador es queda amb només els recursos que necessita.\n",
    "\n",
    "e) No, el codi executable per si mateix està en llenguatge màquina i no seria llegible per a les persones, només per a l'ordinador.\n"
   ]
  },
  {
   "cell_type": "markdown",
   "id": "6f0a0a4e-7986-4d52-84e8-0f25a81b37b1",
   "metadata": {},
   "source": [
    "### Codi executable: Representació\n",
    "Indica quina de les figures representa millor el codi executable:\n",
    "\n",
    "![codi font, codi binari](images/codes_src_bin.png)"
   ]
  },
  {
   "cell_type": "markdown",
   "id": "d0b81a42-ca01-4696-a9f0-669028317a25",
   "metadata": {},
   "source": [
    "//La teva resposta aquí. **Justifica la resposta**.\n",
    "\n",
    "La figura b, ja que el codi executable està escrit a codi màquina."
   ]
  },
  {
   "cell_type": "markdown",
   "id": "ec565f9f-5e3d-4620-93b4-a1ec2e351fac",
   "metadata": {},
   "source": [
    "## Exercici 2"
   ]
  },
  {
   "cell_type": "markdown",
   "id": "93bb9345-e34a-46dc-84ff-cc348db1290f",
   "metadata": {},
   "source": [
    "Preguntes: **cal que justifiquis** les teves respostes, **escrites amb paraules teves** i no copiades d'altres fonts d'informació.\n",
    "\n",
    "    a) Explica amb les teves pròpies paraules, i amb el màxim de precisió possible, quina és la tasca del \"compilador\".\n",
    "    b) Explica amb les teves pròpies paraules, i amb el màxim de precisió possible, quina és la tasca de l'\"enllaçador\".\n",
    "    c) Explica amb les teves pròpies paraules, i amb el màxim de precisió possible, quina diferència hi ha exactament entre el codi objecte i el codi executable."
   ]
  },
  {
   "cell_type": "markdown",
   "id": "c33ac971-436c-4748-b29d-e946846a3786",
   "metadata": {},
   "source": [
    "// a) La teva resposta aquí. Justifica la resposta.\n",
    "\n",
    "El compilador és un programari que s'encarrega de comprovar que el codi font no té errors de sintaxi, un cop comprovat que tot és correcte comença el procés de compilació, aquest traduirà el codi font a codi objecte."
   ]
  },
  {
   "cell_type": "markdown",
   "id": "003ae205-7ccf-462c-b63c-2d239ad1bcc3",
   "metadata": {},
   "source": [
    "// b) La teva resposta aquí. Justifica la resposta.\n",
    "\n",
    "L'enllaçador és un programari que utilitza els objectes creats en els processos inicials de compilació, informació de recursos que s'utilitzen, treu altres que no necessita i després enllaça el codi objecte amb les llibreries externes. Després d'aquest procés, donarà com a resultat el codi executable."
   ]
  },
  {
   "cell_type": "markdown",
   "id": "ac10a892-0c65-4cb3-8f78-d29e5d217229",
   "metadata": {},
   "source": [
    "// c) La teva resposta aquí. Justifica la resposta.\n",
    "\n",
    "El codi objecte és la traducció del codi font original a codi màquina incomplet i lordinador encara no el pot executar. Procés que passa per arribar a codi objecte és amb un programari compilador.\n",
    "\n",
    "\n",
    "El codi executable és la traducció del codi font original a codi màquina complet i l'ordinador sí que el pot executar. Procés que passa per arribar a codi executable és amb un programari enllaçador."
   ]
  },
  {
   "cell_type": "markdown",
   "id": "f5d5f367-a69e-4f52-bba6-16c61f822f76",
   "metadata": {},
   "source": [
    "**Abans de continuar al següent nivell o si vols fer el lliurament**: Fes un git add i un git commit de la branca _main_, amb el següent missatge: **Nom Cognom: nivell 1 acabat**.\n",
    "\n"
   ]
  },
  {
   "cell_type": "code",
   "execution_count": null,
   "id": "01aa585d-fb34-4556-9300-ed33e7cfdeee",
   "metadata": {
    "vscode": {
     "languageId": "java"
    }
   },
   "outputs": [],
   "source": []
  }
 ],
 "metadata": {
  "kernelspec": {
   "display_name": "Java 11",
   "language": "java",
   "name": "java"
  },
  "language_info": {
   "codemirror_mode": "java",
   "file_extension": ".jshell",
   "mimetype": "text/x-java-source",
   "name": "Java",
   "pygments_lexer": "java",
   "version": "11.0.11+9-Ubuntu-0ubuntu2.20.04"
  }
 },
 "nbformat": 4,
 "nbformat_minor": 5
}
